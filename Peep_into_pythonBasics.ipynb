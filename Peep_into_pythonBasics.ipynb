{
  "nbformat": 4,
  "nbformat_minor": 0,
  "metadata": {
    "colab": {
      "name": "Peep into pythonBasics.ipynb",
      "provenance": [],
      "collapsed_sections": []
    },
    "kernelspec": {
      "name": "python3",
      "display_name": "Python 3"
    }
  },
  "cells": [
    {
      "cell_type": "markdown",
      "metadata": {
        "id": "ASgCNSYDqqVr"
      },
      "source": [
        "# 1. refreshing python basics"
      ]
    },
    {
      "cell_type": "markdown",
      "metadata": {
        "id": "eM7UMv28sIOb"
      },
      "source": [
        "### input is a built-in function in python\n",
        "\n",
        "Get your name as an input and print it out on the screen "
      ]
    },
    {
      "cell_type": "code",
      "metadata": {
        "id": "IkvaZ1yRxlxP",
        "outputId": "889bcae3-decd-41af-8179-7904f95e20da",
        "colab": {
          "base_uri": "https://localhost:8080/"
        }
      },
      "source": [
        "name = input(\"Welcome! Welcome! Welcome!, What's your name: \")\n",
        "print('Hello', name)"
      ],
      "execution_count": 1,
      "outputs": [
        {
          "output_type": "stream",
          "text": [
            "Welcome! Welcome! Welcome!, What's your name: Kiran\n",
            "Hello Kiran\n"
          ],
          "name": "stdout"
        }
      ]
    },
    {
      "cell_type": "markdown",
      "metadata": {
        "id": "6ZDIco7Qse5f"
      },
      "source": [
        "### Boolean values can be represented as one of two constant objects \"False\" and \"True\". \n"
      ]
    },
    {
      "cell_type": "code",
      "metadata": {
        "id": "lMmNTQUcyXAb",
        "outputId": "3be0d811-86fe-44d4-e98b-c044fd3b9b02",
        "colab": {
          "base_uri": "https://localhost:8080/"
        }
      },
      "source": [
        "# Booleans behave like integers 0 and 1.\n",
        "True"
      ],
      "execution_count": 2,
      "outputs": [
        {
          "output_type": "execute_result",
          "data": {
            "text/plain": [
              "True"
            ]
          },
          "metadata": {
            "tags": []
          },
          "execution_count": 2
        }
      ]
    },
    {
      "cell_type": "code",
      "metadata": {
        "id": "-5ePVGRhye1t",
        "outputId": "ac377964-fb8a-4685-b3fe-435fa820e84f",
        "colab": {
          "base_uri": "https://localhost:8080/"
        }
      },
      "source": [
        "urMoney = 100\n",
        "friendsMoney = 200\n",
        "print(urMoney == friendsMoney)"
      ],
      "execution_count": 3,
      "outputs": [
        {
          "output_type": "stream",
          "text": [
            "False\n"
          ],
          "name": "stdout"
        }
      ]
    },
    {
      "cell_type": "markdown",
      "metadata": {
        "id": "aa_qnm_Bs12m"
      },
      "source": [
        "### List\n",
        "\n",
        "A list is a collection which is ordered and changeable. \n",
        "\n",
        "List allows duplicate members."
      ]
    },
    {
      "cell_type": "code",
      "metadata": {
        "id": "CvZQgukNyho3",
        "outputId": "9b603cd8-19ea-4e33-a8d8-788f1fdb78dc",
        "colab": {
          "base_uri": "https://localhost:8080/"
        }
      },
      "source": [
        "my_list = ['Hello', 'Everyone', 'and', 'Welcome', 'to', 'Python', 'basics']\n",
        "my_list"
      ],
      "execution_count": 4,
      "outputs": [
        {
          "output_type": "execute_result",
          "data": {
            "text/plain": [
              "['Hello', 'Everyone', 'and', 'Welcome', 'to', 'Python', 'basics']"
            ]
          },
          "metadata": {
            "tags": []
          },
          "execution_count": 4
        }
      ]
    },
    {
      "cell_type": "code",
      "metadata": {
        "id": "k5Gvgn2jymMM",
        "outputId": "33becaec-93e8-42a9-9a76-fbc695a05452",
        "colab": {
          "base_uri": "https://localhost:8080/"
        }
      },
      "source": [
        "# Obtain the datatype\n",
        "type(my_list)"
      ],
      "execution_count": 5,
      "outputs": [
        {
          "output_type": "execute_result",
          "data": {
            "text/plain": [
              "list"
            ]
          },
          "metadata": {
            "tags": []
          },
          "execution_count": 5
        }
      ]
    },
    {
      "cell_type": "code",
      "metadata": {
        "id": "81HjahqmypqY",
        "outputId": "0a43ea12-8bce-4da7-cb39-2eeec87f0a2f",
        "colab": {
          "base_uri": "https://localhost:8080/"
        }
      },
      "source": [
        "# list with mixed datatypes \n",
        "# (for example you can have strings and integers in one list)\n",
        "# You can have a list inside another list (nested list)\n",
        "\n",
        "my_list = [\"GOOG\", [3, 6, 7],\"GOOG\", [3, 6, 7],\"GOOG\", [3, 6, 7]]\n",
        "my_list"
      ],
      "execution_count": 6,
      "outputs": [
        {
          "output_type": "execute_result",
          "data": {
            "text/plain": [
              "['GOOG', [3, 6, 7], 'GOOG', [3, 6, 7], 'GOOG', [3, 6, 7]]"
            ]
          },
          "metadata": {
            "tags": []
          },
          "execution_count": 6
        }
      ]
    },
    {
      "cell_type": "code",
      "metadata": {
        "id": "hN6ZEi9xy3Xm",
        "outputId": "0508a095-96de-4135-8af4-3946ab8bfa40",
        "colab": {
          "base_uri": "https://localhost:8080/"
        }
      },
      "source": [
        "# Access specific elements in the list with Indexing\n",
        "# Note that the first element in the list has an index of 0 (little confusing but you'll get used to it!)\n",
        "my_list[1]"
      ],
      "execution_count": 7,
      "outputs": [
        {
          "output_type": "execute_result",
          "data": {
            "text/plain": [
              "[3, 6, 7]"
            ]
          },
          "metadata": {
            "tags": []
          },
          "execution_count": 7
        }
      ]
    },
    {
      "cell_type": "code",
      "metadata": {
        "id": "0k4ZH2LXy8HU",
        "outputId": "2267ba91-b68c-45a1-a633-9cde5c8ad118",
        "colab": {
          "base_uri": "https://localhost:8080/"
        }
      },
      "source": [
        "# List Slicing (getting more than one element from a list) \n",
        "\n",
        "# obtain elements starting from index 3 up to and not including element with index 6  \n",
        "print(my_list[3:6])"
      ],
      "execution_count": 8,
      "outputs": [
        {
          "output_type": "stream",
          "text": [
            "[[3, 6, 7], 'GOOG', [3, 6, 7]]\n"
          ],
          "name": "stdout"
        }
      ]
    },
    {
      "cell_type": "code",
      "metadata": {
        "id": "F8fw1PHszH46",
        "outputId": "a05391a7-f1c4-456c-e4d1-b2e03eff6ea0",
        "colab": {
          "base_uri": "https://localhost:8080/"
        }
      },
      "source": [
        "# Obtain the length of the list (how many elements in the list) \n",
        "len(my_list)"
      ],
      "execution_count": 9,
      "outputs": [
        {
          "output_type": "execute_result",
          "data": {
            "text/plain": [
              "6"
            ]
          },
          "metadata": {
            "tags": []
          },
          "execution_count": 9
        }
      ]
    },
    {
      "cell_type": "markdown",
      "metadata": {
        "id": "d5S_XymOvaxJ"
      },
      "source": [
        "### Dictionary"
      ]
    },
    {
      "cell_type": "markdown",
      "metadata": {
        "id": "4urhWSInvjLj"
      },
      "source": [
        "my_dict = {'key1':'value1', 'key2':'value2', 'key3':'value3'}\n",
        "\n",
        "Dictionary consists of a collection of key-value pairs. Each key-value pair maps the key to its corresponding value.\n",
        "\n",
        "Keys are unique within a dictionary while values may not be. \n",
        "\n",
        "List elements are accessed by their position in the list, via indexing while Dictionary elements are accessed via keys\n"
      ]
    },
    {
      "cell_type": "code",
      "metadata": {
        "id": "KMGkYM4czWUB"
      },
      "source": [
        "# Define a dictionary using key-value pairs\n",
        "my_dict = {'key1':'value1',\n",
        "           'key2':'value2', \n",
        "           'key3':'value3'}"
      ],
      "execution_count": 10,
      "outputs": []
    },
    {
      "cell_type": "code",
      "metadata": {
        "id": "-JdW94Zmz2pP",
        "outputId": "98df4656-ce65-4ede-99b0-0d84420d96ec",
        "colab": {
          "base_uri": "https://localhost:8080/"
        }
      },
      "source": [
        "# Check the data type\n",
        "type(my_dict)"
      ],
      "execution_count": 11,
      "outputs": [
        {
          "output_type": "execute_result",
          "data": {
            "text/plain": [
              "dict"
            ]
          },
          "metadata": {
            "tags": []
          },
          "execution_count": 11
        }
      ]
    },
    {
      "cell_type": "code",
      "metadata": {
        "id": "tlKxR7-Yz8Eq",
        "outputId": "41a0eaab-c9c2-4a43-b5fb-f42f640e45bf",
        "colab": {
          "base_uri": "https://localhost:8080/",
          "height": 35
        }
      },
      "source": [
        "# Access specific element in the dictionary using a specific key (ex: Key2)\n",
        "my_dict['key2']"
      ],
      "execution_count": 12,
      "outputs": [
        {
          "output_type": "execute_result",
          "data": {
            "application/vnd.google.colaboratory.intrinsic+json": {
              "type": "string"
            },
            "text/plain": [
              "'value2'"
            ]
          },
          "metadata": {
            "tags": []
          },
          "execution_count": 12
        }
      ]
    },
    {
      "cell_type": "markdown",
      "metadata": {
        "id": "AXPoj4aAv00J"
      },
      "source": [
        "### String\n",
        "\n"
      ]
    },
    {
      "cell_type": "markdown",
      "metadata": {
        "id": "3NAJZD2Ov5NM"
      },
      "source": [
        "A string in Python is a sequence of characters\n",
        "\n",
        "String can be enclosed by either double or single quotes"
      ]
    },
    {
      "cell_type": "code",
      "metadata": {
        "id": "r8NfJQrTz-UO",
        "outputId": "d15b7b4d-780b-4a24-d835-06f4e5ebce8f",
        "colab": {
          "base_uri": "https://localhost:8080/",
          "height": 35
        }
      },
      "source": [
        "my_string = \"Hello Everyone and Welcome to Python basics\"\n",
        "my_string"
      ],
      "execution_count": 13,
      "outputs": [
        {
          "output_type": "execute_result",
          "data": {
            "application/vnd.google.colaboratory.intrinsic+json": {
              "type": "string"
            },
            "text/plain": [
              "'Hello Everyone and Welcome to Python basics'"
            ]
          },
          "metadata": {
            "tags": []
          },
          "execution_count": 13
        }
      ]
    },
    {
      "cell_type": "markdown",
      "metadata": {
        "id": "9l49wYcpwHJ2"
      },
      "source": [
        "Split is used to divide up the string into words \n",
        "\n",
        "The output from split is a list"
      ]
    },
    {
      "cell_type": "code",
      "metadata": {
        "id": "fKX3891z0GS6",
        "outputId": "db9b70d7-fcaf-4f61-ce17-d37b31a38b8e",
        "colab": {
          "base_uri": "https://localhost:8080/"
        }
      },
      "source": [
        "\n",
        "\n",
        "x = my_string.split()\n",
        "x"
      ],
      "execution_count": 14,
      "outputs": [
        {
          "output_type": "execute_result",
          "data": {
            "text/plain": [
              "['Hello', 'Everyone', 'and', 'Welcome', 'to', 'Python', 'basics']"
            ]
          },
          "metadata": {
            "tags": []
          },
          "execution_count": 14
        }
      ]
    },
    {
      "cell_type": "markdown",
      "metadata": {
        "id": "qy1fQaLEwNX0"
      },
      "source": [
        "## Tuple"
      ]
    },
    {
      "cell_type": "markdown",
      "metadata": {
        "id": "8sPurNZ6wRoe"
      },
      "source": [
        "A tuple is a sequence of immutable Python objects. \n",
        "\n",
        "Tuples are sequences, just like lists. \n",
        "\n",
        "The differences between tuples and lists are, the tuples cannot be changed unlike lists and tuples use parentheses, whereas lists use square brackets."
      ]
    },
    {
      "cell_type": "code",
      "metadata": {
        "id": "OqRrPRe60NzI",
        "outputId": "436446d9-265a-483d-cc42-f670a51e138d",
        "colab": {
          "base_uri": "https://localhost:8080/"
        }
      },
      "source": [
        "tuple_1 = ('GOOGLE', 'APPLE', 10, 15, 1992);\n",
        "tuple_2 = (450, 55, 977, 2100);\n",
        "type(tuple_1)\n"
      ],
      "execution_count": 15,
      "outputs": [
        {
          "output_type": "execute_result",
          "data": {
            "text/plain": [
              "tuple"
            ]
          },
          "metadata": {
            "tags": []
          },
          "execution_count": 15
        }
      ]
    },
    {
      "cell_type": "code",
      "metadata": {
        "id": "SrECBjDl0Pzf",
        "outputId": "e921e157-cf40-4b38-d6fe-a532d1361af4",
        "colab": {
          "base_uri": "https://localhost:8080/",
          "height": 35
        }
      },
      "source": [
        "# Accessing elements in a tuple\n",
        "tuple_1[1]"
      ],
      "execution_count": 16,
      "outputs": [
        {
          "output_type": "execute_result",
          "data": {
            "application/vnd.google.colaboratory.intrinsic+json": {
              "type": "string"
            },
            "text/plain": [
              "'APPLE'"
            ]
          },
          "metadata": {
            "tags": []
          },
          "execution_count": 16
        }
      ]
    },
    {
      "cell_type": "code",
      "metadata": {
        "id": "qn5mKbLF0UEw",
        "outputId": "e7359410-014e-40be-ca20-e2cdd032093c",
        "colab": {
          "base_uri": "https://localhost:8080/",
          "height": 197
        }
      },
      "source": [
        "# Changing a vlue of a tuple does not work! \n",
        "# 'tuple' object does not support item assignment\n",
        "tuple_1[1] = 0"
      ],
      "execution_count": 18,
      "outputs": [
        {
          "output_type": "error",
          "ename": "TypeError",
          "evalue": "ignored",
          "traceback": [
            "\u001b[0;31m---------------------------------------------------------------------------\u001b[0m",
            "\u001b[0;31mTypeError\u001b[0m                                 Traceback (most recent call last)",
            "\u001b[0;32m<ipython-input-18-0d93d25c1b58>\u001b[0m in \u001b[0;36m<module>\u001b[0;34m()\u001b[0m\n\u001b[1;32m      1\u001b[0m \u001b[0;31m# Changing a vlue of a tuple does not work!\u001b[0m\u001b[0;34m\u001b[0m\u001b[0;34m\u001b[0m\u001b[0;34m\u001b[0m\u001b[0m\n\u001b[1;32m      2\u001b[0m \u001b[0;31m# 'tuple' object does not support item assignment\u001b[0m\u001b[0;34m\u001b[0m\u001b[0;34m\u001b[0m\u001b[0;34m\u001b[0m\u001b[0m\n\u001b[0;32m----> 3\u001b[0;31m \u001b[0mtuple_1\u001b[0m\u001b[0;34m[\u001b[0m\u001b[0;36m1\u001b[0m\u001b[0;34m]\u001b[0m \u001b[0;34m=\u001b[0m \u001b[0;36m0\u001b[0m\u001b[0;34m\u001b[0m\u001b[0;34m\u001b[0m\u001b[0m\n\u001b[0m",
            "\u001b[0;31mTypeError\u001b[0m: 'tuple' object does not support item assignment"
          ]
        }
      ]
    },
    {
      "cell_type": "markdown",
      "metadata": {
        "id": "_C7xWesowfQW"
      },
      "source": [
        "## Set"
      ]
    },
    {
      "cell_type": "markdown",
      "metadata": {
        "id": "5zas_xTiwm1s"
      },
      "source": [
        "A set is an unordered collection of items. Every element is unique (no duplicates).\n",
        "\n",
        "A set is created by placing all the items (elements) inside curly braces {}, separated by comma or by using the built-in function set().\n"
      ]
    },
    {
      "cell_type": "code",
      "metadata": {
        "id": "i5_tbKd00WRc",
        "outputId": "2d4434b4-ee9e-4af9-c700-8abb2d1b162d",
        "colab": {
          "base_uri": "https://localhost:8080/"
        }
      },
      "source": [
        "\n",
        "my_set = {'GOOGLE', 'APPLE', 'Jio'}\n",
        "print(my_set)"
      ],
      "execution_count": 19,
      "outputs": [
        {
          "output_type": "stream",
          "text": [
            "{'Jio', 'GOOGLE', 'APPLE'}\n"
          ],
          "name": "stdout"
        }
      ]
    },
    {
      "cell_type": "code",
      "metadata": {
        "id": "v5kE89D20bKB",
        "outputId": "6c07eec1-42dd-40e3-c060-99eb1d1cb73f",
        "colab": {
          "base_uri": "https://localhost:8080/"
        }
      },
      "source": [
        "# set do not have duplicates\n",
        "my_set = {'GOOG', 'APPL', 'T','TSLA','T','AAPL'}\n",
        "print(my_set)"
      ],
      "execution_count": 20,
      "outputs": [
        {
          "output_type": "stream",
          "text": [
            "{'GOOG', 'T', 'TSLA', 'AAPL', 'APPL'}\n"
          ],
          "name": "stdout"
        }
      ]
    },
    {
      "cell_type": "markdown",
      "metadata": {
        "id": "Jbujzo1Lw1oo"
      },
      "source": [
        "## If Else statements"
      ]
    },
    {
      "cell_type": "markdown",
      "metadata": {
        "id": "JvB4bxwl82QQ"
      },
      "source": [
        "- A simple if-else statement is written in Python as follows:\n",
        "\n",
        "```\n",
        "if condition:\n",
        "  statement #1\n",
        "else:\n",
        "  statement #2\n",
        "```\n",
        "\n",
        "- If the condition is true, execute the first indented statement\n",
        "- if the condition is not true, then execute the else indented statements. \n",
        "- Note that Python uses indentation (whitespace) to indicate code sections and scope."
      ]
    },
    {
      "cell_type": "code",
      "metadata": {
        "id": "_Wfl2Qgb0eJ_",
        "outputId": "0d168afc-516a-4ed6-c8d2-836bf45e9bca",
        "colab": {
          "base_uri": "https://localhost:8080/"
        }
      },
      "source": [
        "if 10 > 9:\n",
        "    print('If condition is True')\n",
        "else:\n",
        "    print('If condition is False')"
      ],
      "execution_count": 21,
      "outputs": [
        {
          "output_type": "stream",
          "text": [
            "If condition is True\n"
          ],
          "name": "stdout"
        }
      ]
    },
    {
      "cell_type": "markdown",
      "metadata": {
        "id": "BcgSBiZew94v"
      },
      "source": [
        "## Loops"
      ]
    },
    {
      "cell_type": "markdown",
      "metadata": {
        "id": "kwjX1919xCOd"
      },
      "source": [
        "For loops are used for iterating over a sequence (a list, a tuple, a dictionary, a set, or a string).\n",
        "\n",
        "An action can be executed once for each item in a list, tuple of the for loop."
      ]
    },
    {
      "cell_type": "markdown",
      "metadata": {
        "id": "jG_SyQOvxS95"
      },
      "source": [
        "### For loop"
      ]
    },
    {
      "cell_type": "code",
      "metadata": {
        "id": "sKaeotAH95fu",
        "outputId": "4495d723-4eec-4e4c-db5b-bbb5f3640030",
        "colab": {
          "base_uri": "https://localhost:8080/"
        }
      },
      "source": [
        "for i in my_list:\n",
        "    print(i)"
      ],
      "execution_count": 22,
      "outputs": [
        {
          "output_type": "stream",
          "text": [
            "GOOG\n",
            "[3, 6, 7]\n",
            "GOOG\n",
            "[3, 6, 7]\n",
            "GOOG\n",
            "[3, 6, 7]\n"
          ],
          "name": "stdout"
        }
      ]
    },
    {
      "cell_type": "markdown",
      "metadata": {
        "id": "iKBhIS_NxZXn"
      },
      "source": [
        "### Range() generates a list of numbers, which is used to iterate over with for loops.\n",
        "\n",
        "range() is 0-index based, meaning list indexes start at 0, not 1. \n",
        "\n",
        "The last integer generated by range() is up to, but not including, last element. \n",
        "\n",
        "Example: range(0, 10) generates integers from 0 up to, but not including, 10."
      ]
    },
    {
      "cell_type": "code",
      "metadata": {
        "id": "lM-YkXsU-FHd",
        "outputId": "770b4ff4-ca11-4c1b-e666-0729cf0af999",
        "colab": {
          "base_uri": "https://localhost:8080/"
        }
      },
      "source": [
        "for i in range(6):\n",
        "    print(i)"
      ],
      "execution_count": 23,
      "outputs": [
        {
          "output_type": "stream",
          "text": [
            "0\n",
            "1\n",
            "2\n",
            "3\n",
            "4\n",
            "5\n"
          ],
          "name": "stdout"
        }
      ]
    },
    {
      "cell_type": "markdown",
      "metadata": {
        "id": "NUSOZCWjxiTG"
      },
      "source": [
        "### While loop"
      ]
    },
    {
      "cell_type": "markdown",
      "metadata": {
        "id": "LRGeYcw-xlt-"
      },
      "source": [
        "While loop can be used to execute a set of statements as long as a certain condition holds true.\n"
      ]
    },
    {
      "cell_type": "code",
      "metadata": {
        "id": "Te5hErJG-JIJ",
        "outputId": "ac2d5a67-b52e-416d-845f-0bc1039db77a",
        "colab": {
          "base_uri": "https://localhost:8080/"
        }
      },
      "source": [
        "i = 0\n",
        "\n",
        "while i <=7:\n",
        "    print(i)\n",
        "    i = i + 1"
      ],
      "execution_count": 24,
      "outputs": [
        {
          "output_type": "stream",
          "text": [
            "0\n",
            "1\n",
            "2\n",
            "3\n",
            "4\n",
            "5\n",
            "6\n",
            "7\n"
          ],
          "name": "stdout"
        }
      ]
    },
    {
      "cell_type": "markdown",
      "metadata": {
        "id": "edJjKpEFxsw2"
      },
      "source": [
        "### break() is used to exit a for loop or a while loop\n",
        "\n",
        "### continue() is used to skip the current block, and return to the \"for\" or \"while\" statement."
      ]
    },
    {
      "cell_type": "code",
      "metadata": {
        "id": "8huk0IQP-PeG",
        "outputId": "d4880f37-10d6-4c0c-fcfb-c0a0bc375b42",
        "colab": {
          "base_uri": "https://localhost:8080/"
        }
      },
      "source": [
        "# print out all elements in the list up until the Python (Ticker Symbol = Python) is detected\n",
        "for i in my_list:\n",
        "    print(i)\n",
        "    if i == 'Python':\n",
        "        break  "
      ],
      "execution_count": 25,
      "outputs": [
        {
          "output_type": "stream",
          "text": [
            "GOOG\n",
            "[3, 6, 7]\n",
            "GOOG\n",
            "[3, 6, 7]\n",
            "GOOG\n",
            "[3, 6, 7]\n"
          ],
          "name": "stdout"
        }
      ]
    },
    {
      "cell_type": "code",
      "metadata": {
        "id": "pGzlMOm1-TJK",
        "outputId": "e65b3483-38af-45c0-b77f-4618e2433fec",
        "colab": {
          "base_uri": "https://localhost:8080/"
        }
      },
      "source": [
        "# Print only odd elements and skip even numbers\n",
        "No_list = [1, 2, 3, 4, 5, 6, 7, 8, 9, 10]\n",
        "\n",
        "for i in No_list:\n",
        "    if i%2 == 0:\n",
        "        continue\n",
        "    print(i)"
      ],
      "execution_count": 26,
      "outputs": [
        {
          "output_type": "stream",
          "text": [
            "1\n",
            "3\n",
            "5\n",
            "7\n",
            "9\n"
          ],
          "name": "stdout"
        }
      ]
    },
    {
      "cell_type": "markdown",
      "metadata": {
        "id": "N6vBTNjKyXXp"
      },
      "source": [
        "## List comprehension is an elegant tool to transform one list into another list. \n",
        "\n",
        "Instead of using loops and append, list comprehension is used to iterate over a list, condition its elements and include them in a new list.\n"
      ]
    },
    {
      "cell_type": "code",
      "metadata": {
        "id": "ixMBhCz7-xDC",
        "outputId": "34087444-10a3-491e-eddb-9bf471459f10",
        "colab": {
          "base_uri": "https://localhost:8080/"
        }
      },
      "source": [
        "input_list = [1, 2, 3, 4]\n",
        "\n",
        "[ element ** 2  for element in input_list]"
      ],
      "execution_count": 27,
      "outputs": [
        {
          "output_type": "execute_result",
          "data": {
            "text/plain": [
              "[1, 4, 9, 16]"
            ]
          },
          "metadata": {
            "tags": []
          },
          "execution_count": 27
        }
      ]
    },
    {
      "cell_type": "markdown",
      "metadata": {
        "id": "ZfzQajfWyj8i"
      },
      "source": [
        "## Lambda function\n",
        "\n",
        "Lambda function is used to create a function without a name \n",
        "\n",
        "Lambda functions are mainly used with filter() and map()\n",
        "\n",
        "Lambda function can receive any number of arguments, but can only have one expression."
      ]
    },
    {
      "cell_type": "code",
      "metadata": {
        "id": "8eKdo4oTt7xU"
      },
      "source": [
        "# We can do the same task using Lambda expression\n",
        "# Note that there is no function name\n",
        "y = lambda x:x**2"
      ],
      "execution_count": 28,
      "outputs": []
    },
    {
      "cell_type": "markdown",
      "metadata": {
        "id": "U1zYTCrEy7Hc"
      },
      "source": [
        "###  The map() function takes in a function and a list.\n",
        "\n",
        " map() performs an operation on the entire list and return the results in a new list.\n"
      ]
    },
    {
      "cell_type": "code",
      "metadata": {
        "id": "tcKhUhPDt8B4"
      },
      "source": [
        "# Define two lists a and b\n",
        "a = [1, 4, 5, 6, 9]\n",
        "b = [1, 7, 9, 12, 7]"
      ],
      "execution_count": 29,
      "outputs": []
    },
    {
      "cell_type": "code",
      "metadata": {
        "id": "l4AEJ33iih46"
      },
      "source": [
        "# Let's define a function that adds two elements together\n",
        "def summation(a, b):\n",
        "    return a + b"
      ],
      "execution_count": 30,
      "outputs": []
    },
    {
      "cell_type": "code",
      "metadata": {
        "id": "8ZEm6BjIKdQ7",
        "outputId": "5bc2820a-3dcf-4a39-eb2a-a7c8a936931e",
        "colab": {
          "base_uri": "https://localhost:8080/"
        }
      },
      "source": [
        "# You can now use map() to apply a function to the entire list and generate a new list\n",
        "c = list(map(summation, a, b))\n",
        "c"
      ],
      "execution_count": 31,
      "outputs": [
        {
          "output_type": "execute_result",
          "data": {
            "text/plain": [
              "[2, 11, 14, 18, 16]"
            ]
          },
          "metadata": {
            "tags": []
          },
          "execution_count": 31
        }
      ]
    },
    {
      "cell_type": "markdown",
      "metadata": {
        "id": "pbRFa_gbzD2d"
      },
      "source": [
        "### filter is used to create a list of elements for which a function returns \"True\".\n"
      ]
    },
    {
      "cell_type": "code",
      "metadata": {
        "id": "D5LVa00JKdz0"
      },
      "source": [
        "prices = [105, 5055, 40, 356, 923, 1443, 222, 62]"
      ],
      "execution_count": 32,
      "outputs": []
    },
    {
      "cell_type": "code",
      "metadata": {
        "id": "cgQq4hlcKd4A",
        "outputId": "4395617d-8a13-4435-d766-902813d36b61",
        "colab": {
          "base_uri": "https://localhost:8080/"
        }
      },
      "source": [
        "# return only even numbers\n",
        "out = list(filter( lambda x: (x % 2 == 0) , prices  ))\n",
        "out"
      ],
      "execution_count": 33,
      "outputs": [
        {
          "output_type": "execute_result",
          "data": {
            "text/plain": [
              "[40, 356, 222, 62]"
            ]
          },
          "metadata": {
            "tags": []
          },
          "execution_count": 33
        }
      ]
    },
    {
      "cell_type": "markdown",
      "metadata": {
        "id": "Y20llLF9zHWl"
      },
      "source": [
        "## Files"
      ]
    },
    {
      "cell_type": "markdown",
      "metadata": {
        "id": "EyQNIa0_t9O1"
      },
      "source": [
        "- open() is the key function to handle files \n",
        "- open() function takes two parameters: (1) filename (2) mode.\n",
        "- Modes for files opening: \n",
        "\n",
        "    - \"r\" - Read - Default value. Opens a file for reading, error if the file does not exist\n",
        "    - \"a\" - Append - Opens a file for appending, creates the file if it does not exist\n",
        "    - \"w\" - Write - Opens a file for writing, creates the file if it does not exist\n",
        "    - \"x\" - Create - Creates the specified file, returns an error if the file exists\n",
        "\n",
        "- files can be used in a binary or text mode\n",
        "\n",
        "    - \"t\" - Text - Default value. Text mode\n",
        "    - \"b\" - Binary - Binary mode (e.g. images)"
      ]
    },
    {
      "cell_type": "markdown",
      "metadata": {
        "id": "nyQJZyQKuR70"
      },
      "source": [
        "f = open('sample_file.txt', 'r')\n",
        "\n",
        "print(f.read())\n",
        "\n",
        "outputs the content of sample file"
      ]
    },
    {
      "cell_type": "markdown",
      "metadata": {
        "id": "OSDNXoapub2D"
      },
      "source": [
        "### readline will be used to read the first line\n",
        "print(f.readline())\n",
        "\n",
        "### You can open the file and append content to it\n",
        "f.write('this is a new line that I added to the file!')\n",
        "\n",
        "\n",
        "### close the file and let's check its content\n",
        "f.close()\n",
        "\n"
      ]
    }
  ]
}